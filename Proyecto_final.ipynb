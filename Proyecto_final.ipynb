{
 "cells": [
  {
   "cell_type": "markdown",
   "metadata": {},
   "source": [
    "# Manejo y "
   ]
  },
  {
   "cell_type": "markdown",
   "metadata": {},
   "source": [
    "Importamos la libreria `pandas` para leer la base de datos en formato .csv y la denominamos `pd`."
   ]
  },
  {
   "cell_type": "code",
   "execution_count": 6,
   "metadata": {},
   "outputs": [],
   "source": [
    "import pandas as pd"
   ]
  },
  {
   "cell_type": "code",
   "execution_count": 7,
   "metadata": {},
   "outputs": [
    {
     "data": {
      "text/html": [
       "<div>\n",
       "<style scoped>\n",
       "    .dataframe tbody tr th:only-of-type {\n",
       "        vertical-align: middle;\n",
       "    }\n",
       "\n",
       "    .dataframe tbody tr th {\n",
       "        vertical-align: top;\n",
       "    }\n",
       "\n",
       "    .dataframe thead th {\n",
       "        text-align: right;\n",
       "    }\n",
       "</style>\n",
       "<table border=\"1\" class=\"dataframe\">\n",
       "  <thead>\n",
       "    <tr style=\"text-align: right;\">\n",
       "      <th></th>\n",
       "      <th>Nacional</th>\n",
       "      <th>Unnamed: 2</th>\n",
       "      <th>Unnamed: 3</th>\n",
       "      <th>Urbano</th>\n",
       "      <th>Unnamed: 5</th>\n",
       "      <th>Unnamed: 6</th>\n",
       "      <th>Rural</th>\n",
       "      <th>Unnamed: 8</th>\n",
       "      <th>Unnamed: 9</th>\n",
       "    </tr>\n",
       "    <tr>\n",
       "      <th>Año</th>\n",
       "      <th></th>\n",
       "      <th></th>\n",
       "      <th></th>\n",
       "      <th></th>\n",
       "      <th></th>\n",
       "      <th></th>\n",
       "      <th></th>\n",
       "      <th></th>\n",
       "      <th></th>\n",
       "    </tr>\n",
       "  </thead>\n",
       "  <tbody>\n",
       "    <tr>\n",
       "      <th></th>\n",
       "      <td>Incidencia</td>\n",
       "      <td>Limite Inferior</td>\n",
       "      <td>Limite Superior</td>\n",
       "      <td>Incidencia</td>\n",
       "      <td>Limite Inferior</td>\n",
       "      <td>Limite Superior</td>\n",
       "      <td>Incidencia</td>\n",
       "      <td>Limite Inferior</td>\n",
       "      <td>Limite Superior</td>\n",
       "    </tr>\n",
       "    <tr>\n",
       "      <th>2014</th>\n",
       "      <td>24,53</td>\n",
       "      <td>23,6</td>\n",
       "      <td>25,47</td>\n",
       "      <td>16,3</td>\n",
       "      <td>15,18</td>\n",
       "      <td>17,42</td>\n",
       "      <td>41,69</td>\n",
       "      <td>40,02</td>\n",
       "      <td>43,37</td>\n",
       "    </tr>\n",
       "    <tr>\n",
       "      <th>2015</th>\n",
       "      <td>22,01</td>\n",
       "      <td>20,96</td>\n",
       "      <td>23,05</td>\n",
       "      <td>14,44</td>\n",
       "      <td>13,27</td>\n",
       "      <td>15,61</td>\n",
       "      <td>38,04</td>\n",
       "      <td>36,05</td>\n",
       "      <td>40,04</td>\n",
       "    </tr>\n",
       "    <tr>\n",
       "      <th>2016</th>\n",
       "      <td>23,7</td>\n",
       "      <td>22,38</td>\n",
       "      <td>25,01</td>\n",
       "      <td>15,64</td>\n",
       "      <td>14,28</td>\n",
       "      <td>17,01</td>\n",
       "      <td>40,91</td>\n",
       "      <td>38,32</td>\n",
       "      <td>43,5</td>\n",
       "    </tr>\n",
       "    <tr>\n",
       "      <th>2017</th>\n",
       "      <td>23,09</td>\n",
       "      <td>21,59</td>\n",
       "      <td>24,59</td>\n",
       "      <td>14,64</td>\n",
       "      <td>13,37</td>\n",
       "      <td>15,91</td>\n",
       "      <td>40,98</td>\n",
       "      <td>38,22</td>\n",
       "      <td>43,74</td>\n",
       "    </tr>\n",
       "  </tbody>\n",
       "</table>\n",
       "</div>"
      ],
      "text/plain": [
       "       Nacional         Unnamed: 2        Unnamed: 3     Urbano   \\\n",
       "Año                                                                \n",
       "      Incidencia  Limite Inferior   Limite Superior   Incidencia   \n",
       "2014       24,53              23,6             25,47        16,3   \n",
       "2015       22,01             20,96             23,05       14,44   \n",
       "2016        23,7             22,38             25,01       15,64   \n",
       "2017       23,09             21,59             24,59       14,64   \n",
       "\n",
       "            Unnamed: 5        Unnamed: 6      Rural         Unnamed: 8  \\\n",
       "Año                                                                      \n",
       "      Limite Inferior   Limite Superior   Incidencia  Limite Inferior    \n",
       "2014             15,18             17,42       41,69             40,02   \n",
       "2015             13,27             15,61       38,04             36,05   \n",
       "2016             14,28             17,01       40,91             38,32   \n",
       "2017             13,37             15,91       40,98             38,22   \n",
       "\n",
       "           Unnamed: 9  \n",
       "Año                    \n",
       "      Limite Superior  \n",
       "2014            43,37  \n",
       "2015            40,04  \n",
       "2016             43,5  \n",
       "2017            43,74  "
      ]
     },
     "execution_count": 7,
     "metadata": {},
     "output_type": "execute_result"
    }
   ],
   "source": [
    "datos=pd.read_csv('1.3. Intervalos de confianza.csv', sep=';|\"', engine='python', usecols=range(0, 10), index_col=0,keep_default_na=False)\n",
    "datos.iloc[0:5]"
   ]
  },
  {
   "cell_type": "code",
   "execution_count": 2,
   "metadata": {},
   "outputs": [],
   "source": [
    "from bokeh.io import show\n",
    "from bokeh.plotting import figure"
   ]
  },
  {
   "cell_type": "code",
   "execution_count": 5,
   "metadata": {},
   "outputs": [],
   "source": [
    "from bokeh.plotting import figure, show, output_file\n",
    "\n",
    "output_file('vbar.html')\n",
    "\n",
    "p = figure(plot_width=400, plot_height=400)\n",
    "p.vbar(x=[1, 2, 3], width=0.5, bottom=0,\n",
    "       top=[1.2, 2.5, 3.7], color=\"firebrick\")\n",
    "\n",
    "show(p)"
   ]
  },
  {
   "cell_type": "code",
   "execution_count": 6,
   "metadata": {},
   "outputs": [
    {
     "name": "stdout",
     "output_type": "stream",
     "text": [
      "       Loja      15 asdsd  asdad\n",
      "0  Loeoj145  asdqwd  asdq    NaN\n"
     ]
    }
   ],
   "source": [
    "import pandas as pd\n",
    "datos=pd.read_csv('casa.csv', header=0)\n",
    "print (datos)"
   ]
  },
  {
   "cell_type": "code",
   "execution_count": null,
   "metadata": {},
   "outputs": [],
   "source": []
  }
 ],
 "metadata": {
  "kernelspec": {
   "display_name": "Python 3",
   "language": "python",
   "name": "python3"
  },
  "language_info": {
   "codemirror_mode": {
    "name": "ipython",
    "version": 3
   },
   "file_extension": ".py",
   "mimetype": "text/x-python",
   "name": "python",
   "nbconvert_exporter": "python",
   "pygments_lexer": "ipython3",
   "version": "3.6.3"
  }
 },
 "nbformat": 4,
 "nbformat_minor": 2
}
